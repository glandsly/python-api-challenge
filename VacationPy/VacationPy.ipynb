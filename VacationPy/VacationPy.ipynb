{
 "cells": [
  {
   "cell_type": "markdown",
   "metadata": {},
   "source": [
    "# VacationPy\n",
    "----\n",
    "\n",
    "#### Note\n",
    "* Instructions have been included for each segment. You do not have to follow them exactly, but they are included to help you think through the steps."
   ]
  },
  {
   "cell_type": "code",
   "execution_count": 26,
   "metadata": {},
   "outputs": [],
   "source": [
    "# Dependencies and Setup\n",
    "import matplotlib.pyplot as plt\n",
    "import pandas as pd\n",
    "import numpy as np\n",
    "import requests\n",
    "import gmaps\n",
    "import os\n",
    "\n",
    "# Import API key\n",
    "from api_keys import g_key\n"
   ]
  },
  {
   "cell_type": "markdown",
   "metadata": {},
   "source": [
    "### Store Part I results into DataFrame\n",
    "* Load the csv exported in Part I to a DataFrame"
   ]
  },
  {
   "cell_type": "code",
   "execution_count": 27,
   "metadata": {},
   "outputs": [],
   "source": [
    "weather_df = pd.read_csv(\"../WeatherPy/output_data/cities.csv\")"
   ]
  },
  {
   "cell_type": "markdown",
   "metadata": {},
   "source": [
    "### Humidity Heatmap\n",
    "* Configure gmaps.\n",
    "* Use the Lat and Lng as locations and Humidity as the weight.\n",
    "* Add Heatmap layer to map."
   ]
  },
  {
   "cell_type": "code",
   "execution_count": 28,
   "metadata": {},
   "outputs": [],
   "source": [
    "# Access maps with unique API key\n",
    "gmaps.configure(api_key=g_key)"
   ]
  },
  {
   "cell_type": "code",
   "execution_count": 67,
   "metadata": {},
   "outputs": [
    {
     "data": {
      "application/vnd.jupyter.widget-view+json": {
       "model_id": "106764a8c96b4045a3de10fcc5cda6cb",
       "version_major": 2,
       "version_minor": 0
      },
      "text/plain": [
       "Figure(layout=FigureLayout(border='1px solid black', height='300px', margin='0 auto 0 auto', padding='1px', wi…"
      ]
     },
     "metadata": {},
     "output_type": "display_data"
    }
   ],
   "source": [
    "figure_layout = {\n",
    "    'width': '400px',\n",
    "    'height': '300px',\n",
    "    'border': '1px solid black',\n",
    "    'padding': '1px',\n",
    "    'margin': '0 auto 0 auto'\n",
    "}\n",
    "fig = gmaps.figure(layout=figure_layout)\n",
    "heatmap_layer = gmaps.heatmap_layer(\n",
    "    weather_df[['Lat', 'Lng']], weights=weather_df['Humidity'],\n",
    "    max_intensity=50, point_radius=5.0\n",
    ")\n",
    "fig.add_layer(heatmap_layer)\n",
    "fig"
   ]
  },
  {
   "cell_type": "markdown",
   "metadata": {},
   "source": [
    "### Create new DataFrame fitting weather criteria\n",
    "* Narrow down the cities to fit weather conditions.\n",
    "* Drop any rows will null values."
   ]
  },
  {
   "cell_type": "code",
   "execution_count": 34,
   "metadata": {},
   "outputs": [
    {
     "data": {
      "text/html": [
       "<div>\n",
       "<style scoped>\n",
       "    .dataframe tbody tr th:only-of-type {\n",
       "        vertical-align: middle;\n",
       "    }\n",
       "\n",
       "    .dataframe tbody tr th {\n",
       "        vertical-align: top;\n",
       "    }\n",
       "\n",
       "    .dataframe thead th {\n",
       "        text-align: right;\n",
       "    }\n",
       "</style>\n",
       "<table border=\"1\" class=\"dataframe\">\n",
       "  <thead>\n",
       "    <tr style=\"text-align: right;\">\n",
       "      <th></th>\n",
       "      <th>Unnamed: 0</th>\n",
       "      <th>City</th>\n",
       "      <th>Cloudiness</th>\n",
       "      <th>Country</th>\n",
       "      <th>Date</th>\n",
       "      <th>Humidity</th>\n",
       "      <th>Lat</th>\n",
       "      <th>Lng</th>\n",
       "      <th>Max Temp</th>\n",
       "      <th>Wind Speed</th>\n",
       "    </tr>\n",
       "  </thead>\n",
       "  <tbody>\n",
       "    <tr>\n",
       "      <td>46</td>\n",
       "      <td>51</td>\n",
       "      <td>abu dhabi</td>\n",
       "      <td>0.0</td>\n",
       "      <td>AE</td>\n",
       "      <td>1.584493e+09</td>\n",
       "      <td>64.0</td>\n",
       "      <td>24.47</td>\n",
       "      <td>54.37</td>\n",
       "      <td>75.00</td>\n",
       "      <td>3.36</td>\n",
       "    </tr>\n",
       "    <tr>\n",
       "      <td>78</td>\n",
       "      <td>86</td>\n",
       "      <td>airai</td>\n",
       "      <td>0.0</td>\n",
       "      <td>TL</td>\n",
       "      <td>1.584493e+09</td>\n",
       "      <td>67.0</td>\n",
       "      <td>-8.93</td>\n",
       "      <td>125.41</td>\n",
       "      <td>72.90</td>\n",
       "      <td>4.52</td>\n",
       "    </tr>\n",
       "    <tr>\n",
       "      <td>137</td>\n",
       "      <td>149</td>\n",
       "      <td>antalaha</td>\n",
       "      <td>0.0</td>\n",
       "      <td>MG</td>\n",
       "      <td>1.584493e+09</td>\n",
       "      <td>84.0</td>\n",
       "      <td>-14.90</td>\n",
       "      <td>50.28</td>\n",
       "      <td>78.30</td>\n",
       "      <td>4.94</td>\n",
       "    </tr>\n",
       "    <tr>\n",
       "      <td>168</td>\n",
       "      <td>181</td>\n",
       "      <td>emilio carranza</td>\n",
       "      <td>0.0</td>\n",
       "      <td>MX</td>\n",
       "      <td>1.584493e+09</td>\n",
       "      <td>77.0</td>\n",
       "      <td>19.97</td>\n",
       "      <td>-96.61</td>\n",
       "      <td>76.39</td>\n",
       "      <td>9.98</td>\n",
       "    </tr>\n",
       "    <tr>\n",
       "      <td>257</td>\n",
       "      <td>279</td>\n",
       "      <td>jati</td>\n",
       "      <td>0.0</td>\n",
       "      <td>PK</td>\n",
       "      <td>1.584493e+09</td>\n",
       "      <td>24.0</td>\n",
       "      <td>24.35</td>\n",
       "      <td>68.27</td>\n",
       "      <td>72.03</td>\n",
       "      <td>7.11</td>\n",
       "    </tr>\n",
       "    <tr>\n",
       "      <td>271</td>\n",
       "      <td>294</td>\n",
       "      <td>morondava</td>\n",
       "      <td>0.0</td>\n",
       "      <td>MG</td>\n",
       "      <td>1.584493e+09</td>\n",
       "      <td>93.0</td>\n",
       "      <td>-20.28</td>\n",
       "      <td>44.28</td>\n",
       "      <td>71.76</td>\n",
       "      <td>3.40</td>\n",
       "    </tr>\n",
       "    <tr>\n",
       "      <td>442</td>\n",
       "      <td>482</td>\n",
       "      <td>dwarka</td>\n",
       "      <td>0.0</td>\n",
       "      <td>IN</td>\n",
       "      <td>1.584493e+09</td>\n",
       "      <td>61.0</td>\n",
       "      <td>22.24</td>\n",
       "      <td>68.97</td>\n",
       "      <td>78.19</td>\n",
       "      <td>8.63</td>\n",
       "    </tr>\n",
       "    <tr>\n",
       "      <td>506</td>\n",
       "      <td>554</td>\n",
       "      <td>aloleng</td>\n",
       "      <td>0.0</td>\n",
       "      <td>PH</td>\n",
       "      <td>1.584493e+09</td>\n",
       "      <td>60.0</td>\n",
       "      <td>16.13</td>\n",
       "      <td>119.78</td>\n",
       "      <td>79.27</td>\n",
       "      <td>9.57</td>\n",
       "    </tr>\n",
       "  </tbody>\n",
       "</table>\n",
       "</div>"
      ],
      "text/plain": [
       "     Unnamed: 0             City  Cloudiness Country          Date  Humidity  \\\n",
       "46           51        abu dhabi         0.0      AE  1.584493e+09      64.0   \n",
       "78           86            airai         0.0      TL  1.584493e+09      67.0   \n",
       "137         149         antalaha         0.0      MG  1.584493e+09      84.0   \n",
       "168         181  emilio carranza         0.0      MX  1.584493e+09      77.0   \n",
       "257         279             jati         0.0      PK  1.584493e+09      24.0   \n",
       "271         294        morondava         0.0      MG  1.584493e+09      93.0   \n",
       "442         482           dwarka         0.0      IN  1.584493e+09      61.0   \n",
       "506         554          aloleng         0.0      PH  1.584493e+09      60.0   \n",
       "\n",
       "       Lat     Lng  Max Temp  Wind Speed  \n",
       "46   24.47   54.37     75.00        3.36  \n",
       "78   -8.93  125.41     72.90        4.52  \n",
       "137 -14.90   50.28     78.30        4.94  \n",
       "168  19.97  -96.61     76.39        9.98  \n",
       "257  24.35   68.27     72.03        7.11  \n",
       "271 -20.28   44.28     71.76        3.40  \n",
       "442  22.24   68.97     78.19        8.63  \n",
       "506  16.13  119.78     79.27        9.57  "
      ]
     },
     "execution_count": 34,
     "metadata": {},
     "output_type": "execute_result"
    }
   ],
   "source": [
    "ideal_weather_df = weather_df[(weather_df['Max Temp'] >= 70) & \n",
    "                              (weather_df['Max Temp'] <= 80) & \n",
    "                              (weather_df['Wind Speed'] <= 10) &\n",
    "                              (weather_df['Cloudiness'] == 0)]\n",
    "ideal_weather_df"
   ]
  },
  {
   "cell_type": "markdown",
   "metadata": {},
   "source": [
    "### Hotel Map\n",
    "* Store into variable named `hotel_df`.\n",
    "* Add a \"Hotel Name\" column to the DataFrame.\n",
    "* Set parameters to search for hotels with 5000 meters.\n",
    "* Hit the Google Places API for each city's coordinates.\n",
    "* Store the first Hotel result into the DataFrame.\n",
    "* Plot markers on top of the heatmap."
   ]
  },
  {
   "cell_type": "code",
   "execution_count": 35,
   "metadata": {},
   "outputs": [
    {
     "name": "stderr",
     "output_type": "stream",
     "text": [
      "C:\\Users\\George\\Anaconda3\\lib\\site-packages\\ipykernel_launcher.py:2: SettingWithCopyWarning: \n",
      "A value is trying to be set on a copy of a slice from a DataFrame.\n",
      "Try using .loc[row_indexer,col_indexer] = value instead\n",
      "\n",
      "See the caveats in the documentation: http://pandas.pydata.org/pandas-docs/stable/user_guide/indexing.html#returning-a-view-versus-a-copy\n",
      "  \n"
     ]
    }
   ],
   "source": [
    "hotel_df = ideal_weather_df\n",
    "hotel_df['Hotel Name'] = \"\""
   ]
  },
  {
   "cell_type": "code",
   "execution_count": 54,
   "metadata": {},
   "outputs": [
    {
     "name": "stdout",
     "output_type": "stream",
     "text": [
      "Retrieving Results for Index 46: 24.47, 54.37.\n",
      "Closest hotel in 24.47, 54.37 is Marriott Executive Apartments Downtown Abu Dhabi.\n",
      "------------\n",
      "Retrieving Results for Index 78: -8.93, 125.41.\n",
      "Closest hotel in -8.93, 125.41 is Juvinal Martin.\n",
      "------------\n",
      "Retrieving Results for Index 137: -14.9, 50.28.\n",
      "Closest hotel in -14.9, 50.28 is Hotel Vitasoa.\n",
      "------------\n",
      "Retrieving Results for Index 168: 19.97, -96.61.\n",
      "Closest hotel in 19.97, -96.61 is hotel delicias.\n",
      "------------\n",
      "Retrieving Results for Index 257: 24.35, 68.27.\n",
      "Closest hotel in 24.35, 68.27 is Muhammad Khuzaima Traders.\n",
      "------------\n",
      "Retrieving Results for Index 271: -20.28, 44.28.\n",
      "Closest hotel in -20.28, 44.28 is eden rock hotel.\n",
      "------------\n",
      "Retrieving Results for Index 442: 22.24, 68.97.\n",
      "Closest hotel in 22.24, 68.97 is Hotel Rajmandir.\n",
      "------------\n",
      "Retrieving Results for Index 506: 16.13, 119.78.\n",
      "Closest hotel in 16.13, 119.78 is Agno Umbrella Rocks.\n",
      "------------\n"
     ]
    }
   ],
   "source": [
    "base_url = \"https://maps.googleapis.com/maps/api/place/nearbysearch/json\"\n",
    "params = {\n",
    "    \"types\": \"lodging\",\n",
    "    \"rankby\": \"distance\",\n",
    "    \"key\": g_key\n",
    "}\n",
    "# use iterrows to iterate through pandas dataframe\n",
    "for index, row in hotel_df.iterrows():\n",
    "\n",
    "    # get restaurant type from df\n",
    "    location = f\"{str(row['Lat'])}, {str(row['Lng'])}\"\n",
    "\n",
    "    # add keyword to params dict\n",
    "    params['location'] = location\n",
    "\n",
    "    # assemble url and make API request\n",
    "    print(f\"Retrieving Results for Index {index}: {location}.\")\n",
    "    response = requests.get(base_url, params=params).json()\n",
    "    \n",
    "    # extract results\n",
    "    results = response['results']\n",
    "    \n",
    "    try:\n",
    "        print(f\"Closest hotel in {location} is {results[0]['name']}.\")\n",
    "        \n",
    "        hotel_df.loc[index, 'Hotel Name'] = results[0]['name']\n",
    "        \n",
    "    except (KeyError, IndexError):\n",
    "        print(\"Missing field/result... skipping.\")\n",
    "        \n",
    "    print(\"------------\")"
   ]
  },
  {
   "cell_type": "code",
   "execution_count": 55,
   "metadata": {},
   "outputs": [],
   "source": [
    "# NOTE: Do not change any of the code in this cell\n",
    "\n",
    "# Using the template add the hotel marks to the heatmap\n",
    "info_box_template = \"\"\"\n",
    "<dl>\n",
    "<dt>Name</dt><dd>{Hotel Name}</dd>\n",
    "<dt>City</dt><dd>{City}</dd>\n",
    "<dt>Country</dt><dd>{Country}</dd>\n",
    "</dl>\n",
    "\"\"\"\n",
    "# Store the DataFrame Row\n",
    "# NOTE: be sure to update with your DataFrame name\n",
    "hotel_info = [info_box_template.format(**row) for index, row in ideal_weather_df.iterrows()]\n",
    "locations = hotel_df[[\"Lat\", \"Lng\"]]"
   ]
  },
  {
   "cell_type": "code",
   "execution_count": 62,
   "metadata": {},
   "outputs": [
    {
     "data": {
      "application/vnd.jupyter.widget-view+json": {
       "model_id": "259740c14328460c9e8d307c7056bdea",
       "version_major": 2,
       "version_minor": 0
      },
      "text/plain": [
       "Figure(layout=FigureLayout(border='1px solid black', height='300px', margin='0 auto 0 auto', padding='1px', wi…"
      ]
     },
     "metadata": {},
     "output_type": "display_data"
    }
   ],
   "source": [
    "# Add marker layer ontop of heat map\n",
    "markers = gmaps.marker_layer(locations, info_box_content=hotel_info)\n",
    "\n",
    "fig.add_layer(markers)\n",
    "\n",
    "# Display Map\n",
    "fig"
   ]
  },
  {
   "cell_type": "code",
   "execution_count": null,
   "metadata": {},
   "outputs": [],
   "source": []
  }
 ],
 "metadata": {
  "kernelspec": {
   "display_name": "Python 3",
   "language": "python",
   "name": "python3"
  },
  "language_info": {
   "codemirror_mode": {
    "name": "ipython",
    "version": 3
   },
   "file_extension": ".py",
   "mimetype": "text/x-python",
   "name": "python",
   "nbconvert_exporter": "python",
   "pygments_lexer": "ipython3",
   "version": "3.7.4"
  },
  "latex_envs": {
   "LaTeX_envs_menu_present": true,
   "autoclose": false,
   "autocomplete": true,
   "bibliofile": "biblio.bib",
   "cite_by": "apalike",
   "current_citInitial": 1,
   "eqLabelWithNumbers": true,
   "eqNumInitial": 1,
   "hotkeys": {
    "equation": "Ctrl-E",
    "itemize": "Ctrl-I"
   },
   "labels_anchors": false,
   "latex_user_defs": false,
   "report_style_numbering": false,
   "user_envs_cfg": false
  }
 },
 "nbformat": 4,
 "nbformat_minor": 2
}
