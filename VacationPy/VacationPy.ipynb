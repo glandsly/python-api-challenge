{
 "cells": [
  {
   "cell_type": "markdown",
   "metadata": {},
   "source": [
    "# VacationPy\n",
    "----\n",
    "\n",
    "#### Note\n",
    "* Instructions have been included for each segment. You do not have to follow them exactly, but they are included to help you think through the steps."
   ]
  },
  {
   "cell_type": "code",
   "execution_count": 1,
   "metadata": {},
   "outputs": [],
   "source": [
    "# Dependencies and Setup\n",
    "import matplotlib.pyplot as plt\n",
    "import pandas as pd\n",
    "import numpy as np\n",
    "import requests\n",
    "import gmaps\n",
    "import os\n",
    "\n",
    "# Import API key\n",
    "from api_keys import g_key\n",
    "\n",
    "pd.set_option('mode.chained_assignment', None)"
   ]
  },
  {
   "cell_type": "markdown",
   "metadata": {},
   "source": [
    "### Store Part I results into DataFrame\n",
    "* Load the csv exported in Part I to a DataFrame"
   ]
  },
  {
   "cell_type": "code",
   "execution_count": 2,
   "metadata": {},
   "outputs": [],
   "source": [
    "weather_df = pd.read_csv(\"../WeatherPy/output_data/cities.csv\")"
   ]
  },
  {
   "cell_type": "markdown",
   "metadata": {},
   "source": [
    "### Humidity Heatmap\n",
    "* Configure gmaps.\n",
    "* Use the Lat and Lng as locations and Humidity as the weight.\n",
    "* Add Heatmap layer to map."
   ]
  },
  {
   "cell_type": "code",
   "execution_count": 3,
   "metadata": {},
   "outputs": [],
   "source": [
    "# Access maps with unique API key\n",
    "gmaps.configure(api_key=g_key)"
   ]
  },
  {
   "cell_type": "code",
   "execution_count": 4,
   "metadata": {},
   "outputs": [
    {
     "data": {
      "application/vnd.jupyter.widget-view+json": {
       "model_id": "b7aa34899edd4dce8825baca479ebf07",
       "version_major": 2,
       "version_minor": 0
      },
      "text/plain": [
       "Figure(layout=FigureLayout(border='1px solid black', height='300px', margin='0 auto 0 auto', padding='1px', wi…"
      ]
     },
     "metadata": {},
     "output_type": "display_data"
    }
   ],
   "source": [
    "figure_layout = {\n",
    "    'width': '400px',\n",
    "    'height': '300px',\n",
    "    'border': '1px solid black',\n",
    "    'padding': '1px',\n",
    "    'margin': '0 auto 0 auto'\n",
    "}\n",
    "fig = gmaps.figure(layout=figure_layout)\n",
    "heatmap_layer = gmaps.heatmap_layer(\n",
    "    weather_df[['Lat', 'Lng']], weights=weather_df['Humidity'],\n",
    "    max_intensity=100, point_radius=5.0\n",
    ")\n",
    "fig.add_layer(heatmap_layer)\n",
    "fig"
   ]
  },
  {
   "cell_type": "markdown",
   "metadata": {},
   "source": [
    "### Create new DataFrame fitting weather criteria\n",
    "* Narrow down the cities to fit weather conditions.\n",
    "* Drop any rows will null values."
   ]
  },
  {
   "cell_type": "code",
   "execution_count": 5,
   "metadata": {},
   "outputs": [
    {
     "data": {
      "text/html": [
       "<div>\n",
       "<style scoped>\n",
       "    .dataframe tbody tr th:only-of-type {\n",
       "        vertical-align: middle;\n",
       "    }\n",
       "\n",
       "    .dataframe tbody tr th {\n",
       "        vertical-align: top;\n",
       "    }\n",
       "\n",
       "    .dataframe thead th {\n",
       "        text-align: right;\n",
       "    }\n",
       "</style>\n",
       "<table border=\"1\" class=\"dataframe\">\n",
       "  <thead>\n",
       "    <tr style=\"text-align: right;\">\n",
       "      <th></th>\n",
       "      <th>Unnamed: 0</th>\n",
       "      <th>City</th>\n",
       "      <th>Cloudiness</th>\n",
       "      <th>Country</th>\n",
       "      <th>Date</th>\n",
       "      <th>Humidity</th>\n",
       "      <th>Lat</th>\n",
       "      <th>Lng</th>\n",
       "      <th>Max Temp</th>\n",
       "      <th>Wind Speed</th>\n",
       "    </tr>\n",
       "  </thead>\n",
       "  <tbody>\n",
       "    <tr>\n",
       "      <td>246</td>\n",
       "      <td>274</td>\n",
       "      <td>pokhara</td>\n",
       "      <td>0.0</td>\n",
       "      <td>NP</td>\n",
       "      <td>1.584503e+09</td>\n",
       "      <td>41.0</td>\n",
       "      <td>28.23</td>\n",
       "      <td>83.98</td>\n",
       "      <td>71.47</td>\n",
       "      <td>0.83</td>\n",
       "    </tr>\n",
       "    <tr>\n",
       "      <td>248</td>\n",
       "      <td>276</td>\n",
       "      <td>batemans bay</td>\n",
       "      <td>0.0</td>\n",
       "      <td>AU</td>\n",
       "      <td>1.584503e+09</td>\n",
       "      <td>39.0</td>\n",
       "      <td>-35.72</td>\n",
       "      <td>150.18</td>\n",
       "      <td>75.99</td>\n",
       "      <td>1.99</td>\n",
       "    </tr>\n",
       "    <tr>\n",
       "      <td>267</td>\n",
       "      <td>299</td>\n",
       "      <td>etah</td>\n",
       "      <td>0.0</td>\n",
       "      <td>IN</td>\n",
       "      <td>1.584503e+09</td>\n",
       "      <td>46.0</td>\n",
       "      <td>27.63</td>\n",
       "      <td>78.67</td>\n",
       "      <td>71.13</td>\n",
       "      <td>5.97</td>\n",
       "    </tr>\n",
       "    <tr>\n",
       "      <td>307</td>\n",
       "      <td>340</td>\n",
       "      <td>baikunthpur</td>\n",
       "      <td>0.0</td>\n",
       "      <td>IN</td>\n",
       "      <td>1.584503e+09</td>\n",
       "      <td>35.0</td>\n",
       "      <td>23.25</td>\n",
       "      <td>82.55</td>\n",
       "      <td>74.01</td>\n",
       "      <td>0.85</td>\n",
       "    </tr>\n",
       "    <tr>\n",
       "      <td>399</td>\n",
       "      <td>439</td>\n",
       "      <td>babai</td>\n",
       "      <td>0.0</td>\n",
       "      <td>IN</td>\n",
       "      <td>1.584503e+09</td>\n",
       "      <td>22.0</td>\n",
       "      <td>22.70</td>\n",
       "      <td>77.93</td>\n",
       "      <td>79.72</td>\n",
       "      <td>1.03</td>\n",
       "    </tr>\n",
       "    <tr>\n",
       "      <td>423</td>\n",
       "      <td>466</td>\n",
       "      <td>bilma</td>\n",
       "      <td>0.0</td>\n",
       "      <td>NE</td>\n",
       "      <td>1.584503e+09</td>\n",
       "      <td>10.0</td>\n",
       "      <td>18.69</td>\n",
       "      <td>12.92</td>\n",
       "      <td>70.11</td>\n",
       "      <td>8.79</td>\n",
       "    </tr>\n",
       "    <tr>\n",
       "      <td>427</td>\n",
       "      <td>470</td>\n",
       "      <td>jati</td>\n",
       "      <td>0.0</td>\n",
       "      <td>PK</td>\n",
       "      <td>1.584503e+09</td>\n",
       "      <td>18.0</td>\n",
       "      <td>24.35</td>\n",
       "      <td>68.27</td>\n",
       "      <td>79.66</td>\n",
       "      <td>5.97</td>\n",
       "    </tr>\n",
       "  </tbody>\n",
       "</table>\n",
       "</div>"
      ],
      "text/plain": [
       "     Unnamed: 0          City  Cloudiness Country          Date  Humidity  \\\n",
       "246         274       pokhara         0.0      NP  1.584503e+09      41.0   \n",
       "248         276  batemans bay         0.0      AU  1.584503e+09      39.0   \n",
       "267         299          etah         0.0      IN  1.584503e+09      46.0   \n",
       "307         340   baikunthpur         0.0      IN  1.584503e+09      35.0   \n",
       "399         439         babai         0.0      IN  1.584503e+09      22.0   \n",
       "423         466         bilma         0.0      NE  1.584503e+09      10.0   \n",
       "427         470          jati         0.0      PK  1.584503e+09      18.0   \n",
       "\n",
       "       Lat     Lng  Max Temp  Wind Speed  \n",
       "246  28.23   83.98     71.47        0.83  \n",
       "248 -35.72  150.18     75.99        1.99  \n",
       "267  27.63   78.67     71.13        5.97  \n",
       "307  23.25   82.55     74.01        0.85  \n",
       "399  22.70   77.93     79.72        1.03  \n",
       "423  18.69   12.92     70.11        8.79  \n",
       "427  24.35   68.27     79.66        5.97  "
      ]
     },
     "execution_count": 5,
     "metadata": {},
     "output_type": "execute_result"
    }
   ],
   "source": [
    "ideal_weather_df = weather_df[(weather_df['Max Temp'] >= 70) & \n",
    "                              (weather_df['Max Temp'] <= 80) & \n",
    "                              (weather_df['Wind Speed'] <= 10) &\n",
    "                              (weather_df['Cloudiness'] == 0) &\n",
    "                              (weather_df['Humidity'] <= 50)]\n",
    "ideal_weather_df"
   ]
  },
  {
   "cell_type": "markdown",
   "metadata": {},
   "source": [
    "### Hotel Map\n",
    "* Store into variable named `hotel_df`.\n",
    "* Add a \"Hotel Name\" column to the DataFrame.\n",
    "* Set parameters to search for hotels with 5000 meters.\n",
    "* Hit the Google Places API for each city's coordinates.\n",
    "* Store the first Hotel result into the DataFrame.\n",
    "* Plot markers on top of the heatmap."
   ]
  },
  {
   "cell_type": "code",
   "execution_count": 6,
   "metadata": {},
   "outputs": [],
   "source": [
    "hotel_df = ideal_weather_df\n",
    "hotel_df['Hotel Name'] = \"\""
   ]
  },
  {
   "cell_type": "code",
   "execution_count": 7,
   "metadata": {},
   "outputs": [
    {
     "name": "stdout",
     "output_type": "stream",
     "text": [
      "Retrieving Results for Index 246: 28.23, 83.98.\n",
      "Closest hotel in 28.23, 83.98 is Thakali bhancha and lodge.\n",
      "------------\n",
      "Retrieving Results for Index 248: -35.72, 150.18.\n",
      "Closest hotel in -35.72, 150.18 is Shady Willows Caravan Park.\n",
      "------------\n",
      "Retrieving Results for Index 267: 27.63, 78.67.\n",
      "Closest hotel in 27.63, 78.67 is Bhole BABA mandir.\n",
      "------------\n",
      "Retrieving Results for Index 307: 23.25, 82.55.\n",
      "Closest hotel in 23.25, 82.55 is Vivek Jaiswal's Home.\n",
      "------------\n",
      "Retrieving Results for Index 399: 22.7, 77.93.\n",
      "Closest hotel in 22.7, 77.93 is Neelesh Meena.\n",
      "------------\n",
      "Retrieving Results for Index 423: 18.69, 12.92.\n",
      "Closest hotel in 18.69, 12.92 is Expeditions Ténére voyages.\n",
      "------------\n",
      "Retrieving Results for Index 427: 24.35, 68.27.\n",
      "Closest hotel in 24.35, 68.27 is Muhammad Khuzaima Traders.\n",
      "------------\n"
     ]
    }
   ],
   "source": [
    "base_url = \"https://maps.googleapis.com/maps/api/place/nearbysearch/json\"\n",
    "params = {\n",
    "    \"types\": \"lodging\",\n",
    "    \"rankby\": \"distance\",\n",
    "    \"key\": g_key\n",
    "}\n",
    "# use iterrows to iterate through pandas dataframe\n",
    "for index, row in hotel_df.iterrows():\n",
    "\n",
    "    # get restaurant type from df\n",
    "    location = f\"{str(row['Lat'])}, {str(row['Lng'])}\"\n",
    "\n",
    "    # add keyword to params dict\n",
    "    params['location'] = location\n",
    "\n",
    "    # assemble url and make API request\n",
    "    print(f\"Retrieving Results for Index {index}: {location}.\")\n",
    "    response = requests.get(base_url, params=params).json()\n",
    "    \n",
    "    # extract results\n",
    "    results = response['results']\n",
    "    \n",
    "    try:\n",
    "        print(f\"Closest hotel in {location} is {results[0]['name']}.\")\n",
    "        \n",
    "        hotel_df.loc[index, 'Hotel Name'] = results[0]['name']\n",
    "        \n",
    "    except (KeyError, IndexError):\n",
    "        print(\"Missing field/result... skipping.\")\n",
    "        \n",
    "    print(\"------------\")"
   ]
  },
  {
   "cell_type": "code",
   "execution_count": 8,
   "metadata": {},
   "outputs": [],
   "source": [
    "# NOTE: Do not change any of the code in this cell\n",
    "\n",
    "# Using the template add the hotel marks to the heatmap\n",
    "info_box_template = \"\"\"\n",
    "<dl>\n",
    "<dt>Name</dt><dd>{Hotel Name}</dd>\n",
    "<dt>City</dt><dd>{City}</dd>\n",
    "<dt>Country</dt><dd>{Country}</dd>\n",
    "</dl>\n",
    "\"\"\"\n",
    "# Store the DataFrame Row\n",
    "# NOTE: be sure to update with your DataFrame name\n",
    "hotel_info = [info_box_template.format(**row) for index, row in ideal_weather_df.iterrows()]\n",
    "locations = hotel_df[[\"Lat\", \"Lng\"]]"
   ]
  },
  {
   "cell_type": "code",
   "execution_count": 9,
   "metadata": {},
   "outputs": [
    {
     "data": {
      "application/vnd.jupyter.widget-view+json": {
       "model_id": "b7aa34899edd4dce8825baca479ebf07",
       "version_major": 2,
       "version_minor": 0
      },
      "text/plain": [
       "Figure(layout=FigureLayout(border='1px solid black', height='300px', margin='0 auto 0 auto', padding='1px', wi…"
      ]
     },
     "metadata": {},
     "output_type": "display_data"
    }
   ],
   "source": [
    "# Add marker layer ontop of heat map\n",
    "markers = gmaps.marker_layer(locations, info_box_content=hotel_info)\n",
    "\n",
    "fig.add_layer(markers)\n",
    "\n",
    "# Display Map\n",
    "fig"
   ]
  },
  {
   "cell_type": "code",
   "execution_count": null,
   "metadata": {},
   "outputs": [],
   "source": []
  }
 ],
 "metadata": {
  "kernelspec": {
   "display_name": "Python 3",
   "language": "python",
   "name": "python3"
  },
  "language_info": {
   "codemirror_mode": {
    "name": "ipython",
    "version": 3
   },
   "file_extension": ".py",
   "mimetype": "text/x-python",
   "name": "python",
   "nbconvert_exporter": "python",
   "pygments_lexer": "ipython3",
   "version": "3.7.4"
  },
  "latex_envs": {
   "LaTeX_envs_menu_present": true,
   "autoclose": false,
   "autocomplete": true,
   "bibliofile": "biblio.bib",
   "cite_by": "apalike",
   "current_citInitial": 1,
   "eqLabelWithNumbers": true,
   "eqNumInitial": 1,
   "hotkeys": {
    "equation": "Ctrl-E",
    "itemize": "Ctrl-I"
   },
   "labels_anchors": false,
   "latex_user_defs": false,
   "report_style_numbering": false,
   "user_envs_cfg": false
  }
 },
 "nbformat": 4,
 "nbformat_minor": 2
}
